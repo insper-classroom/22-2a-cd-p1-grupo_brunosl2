{
 "cells": [
  {
   "cell_type": "markdown",
   "metadata": {},
   "source": [
    "# Projeto 1 - Ciência dos Dados"
   ]
  },
  {
   "cell_type": "markdown",
   "metadata": {},
   "source": [
    "Nome: Bruno Schmitt Locatelli\n",
    "\n",
    "Nome: Julia Diniz do Nascimento"
   ]
  },
  {
   "cell_type": "markdown",
   "metadata": {},
   "source": [
    "Atenção: Serão permitidos grupos de três pessoas, mas com uma rubrica mais exigente. Grupos deste tamanho precisarão fazer um questionário de avaliação de trabalho em equipe"
   ]
  },
  {
   "cell_type": "markdown",
   "metadata": {},
   "source": [
    "___\n",
    "Carregando algumas bibliotecas:"
   ]
  },
  {
   "cell_type": "code",
   "execution_count": 72,
   "metadata": {},
   "outputs": [],
   "source": [
    "%matplotlib inline\n",
    "import pandas as pd\n",
    "import matplotlib.pyplot as plt\n",
    "import numpy as np\n",
    "import os\n",
    "import re"
   ]
  },
  {
   "cell_type": "code",
   "execution_count": 73,
   "metadata": {
    "scrolled": true
   },
   "outputs": [
    {
     "name": "stdout",
     "output_type": "stream",
     "text": [
      "Esperamos trabalhar no diretório\n",
      "C:\\Users\\julia\\Desktop\\CDados\\22-2a-cd-p1-grupo_brunosl2\\notebooks\n"
     ]
    }
   ],
   "source": [
    "print('Esperamos trabalhar no diretório')\n",
    "print(os.getcwd())"
   ]
  },
  {
   "cell_type": "markdown",
   "metadata": {},
   "source": [
    "### Funções Importantes:"
   ]
  },
  {
   "cell_type": "code",
   "execution_count": 74,
   "metadata": {},
   "outputs": [],
   "source": [
    "def cleanup(text):\n",
    "    punctuation = '[!-.:?;()\"''@/\\%$&<>,*^´`ª]'\n",
    "    pattern = re.compile(punctuation)\n",
    "    text_subbed = re.sub(pattern, '', text)\n",
    "    return text_subbed.lower()"
   ]
  },
  {
   "cell_type": "markdown",
   "metadata": {},
   "source": [
    "Carregando a base de dados com as notícias classificadas manualmente:"
   ]
  },
  {
   "cell_type": "code",
   "execution_count": 75,
   "metadata": {},
   "outputs": [],
   "source": [
    "filename = 'dados.xlsx'"
   ]
  },
  {
   "cell_type": "code",
   "execution_count": 76,
   "metadata": {},
   "outputs": [
    {
     "data": {
      "text/html": [
       "<div>\n",
       "<style scoped>\n",
       "    .dataframe tbody tr th:only-of-type {\n",
       "        vertical-align: middle;\n",
       "    }\n",
       "\n",
       "    .dataframe tbody tr th {\n",
       "        vertical-align: top;\n",
       "    }\n",
       "\n",
       "    .dataframe thead th {\n",
       "        text-align: right;\n",
       "    }\n",
       "</style>\n",
       "<table border=\"1\" class=\"dataframe\">\n",
       "  <thead>\n",
       "    <tr style=\"text-align: right;\">\n",
       "      <th></th>\n",
       "      <th>Categoria</th>\n",
       "      <th>Titulo</th>\n",
       "      <th>Descrição</th>\n",
       "      <th>Data</th>\n",
       "      <th>Pagina</th>\n",
       "      <th>Target</th>\n",
       "    </tr>\n",
       "  </thead>\n",
       "  <tbody>\n",
       "    <tr>\n",
       "      <th>0</th>\n",
       "      <td>agronegocio</td>\n",
       "      <td>Milhões correm risco de desnutrição com alta d...</td>\n",
       "      <td>PARIS (Reuters) – A guerra na Ucrânia, que par...</td>\n",
       "      <td>29/06/2022 10:41</td>\n",
       "      <td>28</td>\n",
       "      <td>1</td>\n",
       "    </tr>\n",
       "    <tr>\n",
       "      <th>1</th>\n",
       "      <td>agronegocio</td>\n",
       "      <td>Rabobank reduz previsão de produção global de ...</td>\n",
       "      <td>LONDRES (Reuters) – O Rabobank reduziu nesta s...</td>\n",
       "      <td>05/09/2022 17:20</td>\n",
       "      <td>2</td>\n",
       "      <td>1</td>\n",
       "    </tr>\n",
       "    <tr>\n",
       "      <th>2</th>\n",
       "      <td>agronegocio</td>\n",
       "      <td>JBS Biodiesel inaugura unidade que dobra capac...</td>\n",
       "      <td>SÃO PAULO (Reuters) – A JBS Biodiesel, subsidi...</td>\n",
       "      <td>04/07/2022 12:20</td>\n",
       "      <td>26</td>\n",
       "      <td>2</td>\n",
       "    </tr>\n",
       "    <tr>\n",
       "      <th>3</th>\n",
       "      <td>agronegocio</td>\n",
       "      <td>Agricultores dos EUA elevam plantio de milho, ...</td>\n",
       "      <td>CHICAGO (Reuters) – Agricultores dos Estados U...</td>\n",
       "      <td>30/06/2022 15:01</td>\n",
       "      <td>28</td>\n",
       "      <td>2</td>\n",
       "    </tr>\n",
       "    <tr>\n",
       "      <th>4</th>\n",
       "      <td>agronegocio</td>\n",
       "      <td>Contratos mais próximos do milho avançam em Ch...</td>\n",
       "      <td>Por P.J. Huffstutter CHICAGO (Reuters) – Os co...</td>\n",
       "      <td>29/06/2022 17:07</td>\n",
       "      <td>28</td>\n",
       "      <td>2</td>\n",
       "    </tr>\n",
       "  </tbody>\n",
       "</table>\n",
       "</div>"
      ],
      "text/plain": [
       "     Categoria                                             Titulo  \\\n",
       "0  agronegocio  Milhões correm risco de desnutrição com alta d...   \n",
       "1  agronegocio  Rabobank reduz previsão de produção global de ...   \n",
       "2  agronegocio  JBS Biodiesel inaugura unidade que dobra capac...   \n",
       "3  agronegocio  Agricultores dos EUA elevam plantio de milho, ...   \n",
       "4  agronegocio  Contratos mais próximos do milho avançam em Ch...   \n",
       "\n",
       "                                           Descrição              Data  \\\n",
       "0  PARIS (Reuters) – A guerra na Ucrânia, que par...  29/06/2022 10:41   \n",
       "1  LONDRES (Reuters) – O Rabobank reduziu nesta s...  05/09/2022 17:20   \n",
       "2  SÃO PAULO (Reuters) – A JBS Biodiesel, subsidi...  04/07/2022 12:20   \n",
       "3  CHICAGO (Reuters) – Agricultores dos Estados U...  30/06/2022 15:01   \n",
       "4  Por P.J. Huffstutter CHICAGO (Reuters) – Os co...  29/06/2022 17:07   \n",
       "\n",
       "   Pagina  Target  \n",
       "0      28       1  \n",
       "1       2       1  \n",
       "2      26       2  \n",
       "3      28       2  \n",
       "4      28       2  "
      ]
     },
     "execution_count": 76,
     "metadata": {},
     "output_type": "execute_result"
    }
   ],
   "source": [
    "train = pd.read_excel(filename, sheet_name = 'Treinamento')\n",
    "train.head(5)"
   ]
  },
  {
   "cell_type": "code",
   "execution_count": 77,
   "metadata": {},
   "outputs": [
    {
     "data": {
      "text/html": [
       "<div>\n",
       "<style scoped>\n",
       "    .dataframe tbody tr th:only-of-type {\n",
       "        vertical-align: middle;\n",
       "    }\n",
       "\n",
       "    .dataframe tbody tr th {\n",
       "        vertical-align: top;\n",
       "    }\n",
       "\n",
       "    .dataframe thead th {\n",
       "        text-align: right;\n",
       "    }\n",
       "</style>\n",
       "<table border=\"1\" class=\"dataframe\">\n",
       "  <thead>\n",
       "    <tr style=\"text-align: right;\">\n",
       "      <th></th>\n",
       "      <th>Categoria</th>\n",
       "      <th>Titulo</th>\n",
       "      <th>Descrição</th>\n",
       "      <th>Data</th>\n",
       "      <th>Pagina</th>\n",
       "      <th>Target</th>\n",
       "    </tr>\n",
       "  </thead>\n",
       "  <tbody>\n",
       "    <tr>\n",
       "      <th>0</th>\n",
       "      <td>agronegocio</td>\n",
       "      <td>Contratos futuros de suínos da China caem após...</td>\n",
       "      <td>PEQUIM (Reuters) – O contrato futuro de suíno ...</td>\n",
       "      <td>06/07/2022 09:01</td>\n",
       "      <td>25</td>\n",
       "      <td>1</td>\n",
       "    </tr>\n",
       "    <tr>\n",
       "      <th>1</th>\n",
       "      <td>agronegocio</td>\n",
       "      <td>Café arábica fecha em queda em sessão fraca; a...</td>\n",
       "      <td>NOVA YORK (Reuters) – Os contratos futuros de ...</td>\n",
       "      <td>29/08/2022 16:57</td>\n",
       "      <td>5</td>\n",
       "      <td>1</td>\n",
       "    </tr>\n",
       "    <tr>\n",
       "      <th>2</th>\n",
       "      <td>agronegocio</td>\n",
       "      <td>Exportações de trigo 2022/23 da França devem a...</td>\n",
       "      <td>Por Gus Trompiz PARIS (Reuters) – As exportaçõ...</td>\n",
       "      <td>13/07/2022 10:19</td>\n",
       "      <td>23</td>\n",
       "      <td>2</td>\n",
       "    </tr>\n",
       "    <tr>\n",
       "      <th>3</th>\n",
       "      <td>agronegocio</td>\n",
       "      <td>Grãos avançam em Chicago com avaliações de saf...</td>\n",
       "      <td>Por P.J. Huffstutter CHICAGO (Reuters) – Os co...</td>\n",
       "      <td>28/06/2022 19:31</td>\n",
       "      <td>28</td>\n",
       "      <td>2</td>\n",
       "    </tr>\n",
       "    <tr>\n",
       "      <th>4</th>\n",
       "      <td>agronegocio</td>\n",
       "      <td>Preços do café arábica caem em NY com valoriza...</td>\n",
       "      <td>(Reuters) – Os contratos futuros de café arábi...</td>\n",
       "      <td>01/09/2022 20:56</td>\n",
       "      <td>3</td>\n",
       "      <td>1</td>\n",
       "    </tr>\n",
       "  </tbody>\n",
       "</table>\n",
       "</div>"
      ],
      "text/plain": [
       "     Categoria                                             Titulo  \\\n",
       "0  agronegocio  Contratos futuros de suínos da China caem após...   \n",
       "1  agronegocio  Café arábica fecha em queda em sessão fraca; a...   \n",
       "2  agronegocio  Exportações de trigo 2022/23 da França devem a...   \n",
       "3  agronegocio  Grãos avançam em Chicago com avaliações de saf...   \n",
       "4  agronegocio  Preços do café arábica caem em NY com valoriza...   \n",
       "\n",
       "                                           Descrição              Data  \\\n",
       "0  PEQUIM (Reuters) – O contrato futuro de suíno ...  06/07/2022 09:01   \n",
       "1  NOVA YORK (Reuters) – Os contratos futuros de ...  29/08/2022 16:57   \n",
       "2  Por Gus Trompiz PARIS (Reuters) – As exportaçõ...  13/07/2022 10:19   \n",
       "3  Por P.J. Huffstutter CHICAGO (Reuters) – Os co...  28/06/2022 19:31   \n",
       "4  (Reuters) – Os contratos futuros de café arábi...  01/09/2022 20:56   \n",
       "\n",
       "   Pagina  Target  \n",
       "0      25       1  \n",
       "1       5       1  \n",
       "2      23       2  \n",
       "3      28       2  \n",
       "4       3       1  "
      ]
     },
     "execution_count": 77,
     "metadata": {},
     "output_type": "execute_result"
    }
   ],
   "source": [
    "test = pd.read_excel(filename, sheet_name = 'Teste')\n",
    "test.head(5)"
   ]
  },
  {
   "cell_type": "markdown",
   "metadata": {},
   "source": [
    "___\n",
    "## Classificador automático\n"
   ]
  },
  {
   "cell_type": "markdown",
   "metadata": {},
   "source": [
    "Faça aqui uma descrição do seu assunto e o que considerou como relevante ou não relevante na classificação das notícias (Target).\n",
    "\n",
    "ESCREVA AQUI..."
   ]
  },
  {
   "cell_type": "markdown",
   "metadata": {},
   "source": [
    "### Targets:"
   ]
  },
  {
   "cell_type": "code",
   "execution_count": 78,
   "metadata": {
    "scrolled": true
   },
   "outputs": [
    {
     "data": {
      "text/plain": [
       "Titulo    129\n",
       "dtype: int64"
      ]
     },
     "execution_count": 78,
     "metadata": {},
     "output_type": "execute_result"
    }
   ],
   "source": [
    "dados_negativos = train.loc[ train['Target']==1, ['Titulo'] ]\n",
    "dados_negativos.count()"
   ]
  },
  {
   "cell_type": "code",
   "execution_count": 80,
   "metadata": {},
   "outputs": [
    {
     "data": {
      "text/plain": [
       "Titulo    174\n",
       "dtype: int64"
      ]
     },
     "execution_count": 80,
     "metadata": {},
     "output_type": "execute_result"
    }
   ],
   "source": [
    "dados_positivos = train.loc[ train['Target']==2, ['Titulo'] ]\n",
    "dados_positivos.count()"
   ]
  },
  {
   "cell_type": "markdown",
   "metadata": {},
   "source": [
    "### Transformando as bases em string:"
   ]
  },
  {
   "cell_type": "code",
   "execution_count": 81,
   "metadata": {},
   "outputs": [],
   "source": [
    "titulo_negativos = dados_negativos['Titulo']\n",
    "str_negativos = ''\n",
    "\n",
    "for frase_neg in titulo_negativos:\n",
    "    str_negativos += cleanup(frase_neg) + ' '\n",
    "    \n",
    "palavras_negativos = str_negativos.split()"
   ]
  },
  {
   "cell_type": "code",
   "execution_count": 82,
   "metadata": {},
   "outputs": [],
   "source": [
    "titulo_positivos = dados_positivos['Titulo']\n",
    "str_positivos = ''\n",
    "\n",
    "for frase_p in titulo_positivos:\n",
    "    str_positivos += cleanup(frase_p) + ' '\n",
    "    \n",
    "palavras_positivos = str_positivos.split()"
   ]
  },
  {
   "cell_type": "code",
   "execution_count": 101,
   "metadata": {
    "scrolled": true
   },
   "outputs": [
    {
     "data": {
      "text/plain": [
       "de            131\n",
       "em             52\n",
       "do             49\n",
       "da             39\n",
       "com            36\n",
       "             ... \n",
       "crescerá        1\n",
       "verão           1\n",
       "arco            1\n",
       "econômicos      1\n",
       "precárias       1\n",
       "Length: 586, dtype: int64"
      ]
     },
     "execution_count": 101,
     "metadata": {},
     "output_type": "execute_result"
    }
   ],
   "source": [
    "serie_negativos = pd.Series(palavras_negativos)\n",
    "\n",
    "tabela_n = serie_negativos.value_counts(normalize=True)\n",
    "tabela_n_absoluta = serie_negativos.value_counts()\n",
    "\n",
    "#para analisar quais palavras mais aparecem e quais menos aparecem\n",
    "tabela_n_absoluta"
   ]
  },
  {
   "cell_type": "code",
   "execution_count": 103,
   "metadata": {},
   "outputs": [
    {
     "data": {
      "text/plain": [
       "count    586.000000\n",
       "mean       2.824232\n",
       "std        7.286669\n",
       "min        1.000000\n",
       "25%        1.000000\n",
       "50%        1.000000\n",
       "75%        2.000000\n",
       "max      131.000000\n",
       "dtype: float64"
      ]
     },
     "execution_count": 103,
     "metadata": {},
     "output_type": "execute_result"
    }
   ],
   "source": [
    "tabela_n_absoluta.describe()"
   ]
  },
  {
   "cell_type": "code",
   "execution_count": 102,
   "metadata": {},
   "outputs": [
    {
     "data": {
      "text/plain": [
       "de          226\n",
       "para         64\n",
       "da           56\n",
       "em           55\n",
       "do           52\n",
       "           ... \n",
       "conclui       1\n",
       "“barter”      1\n",
       "iguala        1\n",
       "ajuda         1\n",
       "martinho      1\n",
       "Length: 747, dtype: int64"
      ]
     },
     "execution_count": 102,
     "metadata": {},
     "output_type": "execute_result"
    }
   ],
   "source": [
    "serie_positivos = pd.Series(palavras_positivos)\n",
    "\n",
    "tabela_p = serie_negativos.value_counts(normalize=True)\n",
    "tabela_p_absoluta = serie_positivos.value_counts()\n",
    "\n",
    "#para analisar quais palavras mais aparecem e quais menos aparecem\n",
    "tabela_p_absoluta"
   ]
  },
  {
   "cell_type": "markdown",
   "metadata": {},
   "source": [
    "___\n",
    "### Montando um Classificador Naive-Bayes\n",
    "\n",
    "Considerando apenas as mensagens da planilha Treinamento, ensine  seu classificador."
   ]
  },
  {
   "cell_type": "code",
   "execution_count": null,
   "metadata": {},
   "outputs": [],
   "source": []
  },
  {
   "cell_type": "code",
   "execution_count": null,
   "metadata": {},
   "outputs": [],
   "source": []
  },
  {
   "cell_type": "code",
   "execution_count": null,
   "metadata": {},
   "outputs": [],
   "source": []
  },
  {
   "cell_type": "markdown",
   "metadata": {},
   "source": [
    "___\n",
    "### Verificando a performance do Classificador\n",
    "\n",
    "Agora você deve testar o seu classificador com a base de Testes."
   ]
  },
  {
   "cell_type": "code",
   "execution_count": null,
   "metadata": {},
   "outputs": [],
   "source": []
  },
  {
   "cell_type": "code",
   "execution_count": null,
   "metadata": {},
   "outputs": [],
   "source": []
  },
  {
   "cell_type": "code",
   "execution_count": null,
   "metadata": {},
   "outputs": [],
   "source": []
  },
  {
   "cell_type": "markdown",
   "metadata": {},
   "source": [
    "___\n",
    "### Concluindo"
   ]
  },
  {
   "cell_type": "code",
   "execution_count": null,
   "metadata": {},
   "outputs": [],
   "source": []
  },
  {
   "cell_type": "code",
   "execution_count": null,
   "metadata": {},
   "outputs": [],
   "source": []
  },
  {
   "cell_type": "code",
   "execution_count": null,
   "metadata": {},
   "outputs": [],
   "source": []
  },
  {
   "cell_type": "markdown",
   "metadata": {},
   "source": [
    "___\n",
    "### Qualidade do Classificador a partir de novas separações das notícias entre Treinamento e Teste\n",
    "\n",
    "Caso for fazer esse item do Projeto"
   ]
  },
  {
   "cell_type": "code",
   "execution_count": null,
   "metadata": {},
   "outputs": [],
   "source": []
  },
  {
   "cell_type": "code",
   "execution_count": null,
   "metadata": {},
   "outputs": [],
   "source": []
  },
  {
   "cell_type": "code",
   "execution_count": null,
   "metadata": {},
   "outputs": [],
   "source": []
  },
  {
   "cell_type": "markdown",
   "metadata": {},
   "source": [
    "___\n",
    "## Aperfeiçoamento:\n",
    "\n",
    "Trabalhos que conseguirem pelo menos conceito B vão evoluir em conceito dependendo da quantidade de itens avançados:\n",
    "\n",
    "* IMPLEMENTOU outras limpezas e transformações que não afetem a qualidade da informação contida nas notícias. Ex: stemming, lemmatization, stopwords\n",
    "* CONSIDEROU mais de duas caterogias na variável Target e INCREMENTOU a quantidade de notícias, mantendo pelo menos 250 notícias por caterogia (OBRIGATÓRIO PARA TRIOS, sem contar como item avançado)\n",
    "* Para Target com duas categorias: CRIOU pelo menos quatro categorias intermediárias de relevância baseadas na probabilidade: ex.: muito relevante, relevante, neutro, irrelevante, muito irrelevante\n",
    "* EXPLICOU porquê não pode usar o próprio classificador para gerar mais amostras de treinamento\n",
    "* PROPÔS diferentes cenários para Naïve Bayes fora do contexto do projeto (pelo menos dois cenários, exceto aqueles já apresentados em sala pelos professores: por exemplo, filtro de spam)\n",
    "* SUGERIU e EXPLICOU melhorias reais com indicações concretas de como implementar (indicar como fazer e indicar material de pesquisa)\n",
    "* FEZ o item Qualidade do Classificador a partir de novas separações das Notícias entre Treinamento e Teste descrito no enunciado do projeto (OBRIGATÓRIO para conceitos A ou A+)"
   ]
  },
  {
   "cell_type": "markdown",
   "metadata": {},
   "source": [
    "___\n",
    "## Referências"
   ]
  },
  {
   "cell_type": "markdown",
   "metadata": {},
   "source": [
    "[Naive Bayes and Text Classification](https://arxiv.org/pdf/1410.5329.pdf)  **Mais completo**\n",
    "\n",
    "[A practical explanation of a Naive Bayes Classifier](https://monkeylearn.com/blog/practical-explanation-naive-bayes-classifier/) **Mais simples**"
   ]
  },
  {
   "cell_type": "code",
   "execution_count": null,
   "metadata": {},
   "outputs": [],
   "source": []
  }
 ],
 "metadata": {
  "kernelspec": {
   "display_name": "Python 3",
   "language": "python",
   "name": "python3"
  },
  "language_info": {
   "codemirror_mode": {
    "name": "ipython",
    "version": 3
   },
   "file_extension": ".py",
   "mimetype": "text/x-python",
   "name": "python",
   "nbconvert_exporter": "python",
   "pygments_lexer": "ipython3",
   "version": "3.8.8"
  }
 },
 "nbformat": 4,
 "nbformat_minor": 4
}
