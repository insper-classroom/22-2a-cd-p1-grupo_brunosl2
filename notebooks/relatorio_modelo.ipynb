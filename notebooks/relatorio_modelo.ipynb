{
 "cells": [
  {
   "cell_type": "markdown",
   "metadata": {},
   "source": [
    "# Projeto 1 - Ciência dos Dados"
   ]
  },
  {
   "cell_type": "markdown",
   "metadata": {},
   "source": [
    "Nome: Bruno Schmitt Locatelli\n",
    "\n",
    "Nome: Julia Diniz do Nascimento"
   ]
  },
  {
   "cell_type": "markdown",
   "metadata": {},
   "source": [
    "Atenção: Serão permitidos grupos de três pessoas, mas com uma rubrica mais exigente. Grupos deste tamanho precisarão fazer um questionário de avaliação de trabalho em equipe"
   ]
  },
  {
   "cell_type": "markdown",
   "metadata": {},
   "source": [
    "___\n",
    "### Carregando algumas bibliotecas:"
   ]
  },
  {
   "cell_type": "code",
   "execution_count": 58,
   "metadata": {},
   "outputs": [],
   "source": [
    "%matplotlib inline\n",
    "import pandas as pd\n",
    "import matplotlib.pyplot as plt\n",
    "import numpy as np\n",
    "import os\n",
    "import re\n",
    "import nltk\n",
    "import warnings\n",
    "warnings.filterwarnings('ignore')\n",
    "from sklearn.model_selection import train_test_split"
   ]
  },
  {
   "cell_type": "code",
   "execution_count": 59,
   "metadata": {
    "scrolled": false
   },
   "outputs": [
    {
     "name": "stdout",
     "output_type": "stream",
     "text": [
      "Esperamos trabalhar no diretório\n",
      "C:\\Users\\julia\\Desktop\\CDados\\22-2a-cd-p1-grupo_brunosl2\\data\n"
     ]
    }
   ],
   "source": [
    "print('Esperamos trabalhar no diretório')\n",
    "print(os.getcwd())"
   ]
  },
  {
   "cell_type": "markdown",
   "metadata": {},
   "source": [
    "### Funções Importantes:"
   ]
  },
  {
   "cell_type": "code",
   "execution_count": 60,
   "metadata": {},
   "outputs": [],
   "source": [
    "def cleanup(text):\n",
    "    punctuation = '[!-.:?;()\"''@/\\%$&<>,*^´`ª]'\n",
    "    pattern = re.compile(punctuation)\n",
    "    text_subbed = re.sub(pattern, '', text)\n",
    "    return text_subbed.lower()\n",
    "\n",
    "def stopwords(list_of_words):\n",
    "    stopwords = nltk.corpus.stopwords.words('portuguese')\n",
    "    listafinal = []\n",
    "    for word in list_of_words:\n",
    "        if word not in stopwords:\n",
    "            listafinal.append(word)\n",
    "    return listafinal"
   ]
  },
  {
   "cell_type": "markdown",
   "metadata": {},
   "source": [
    "Carregando a base de dados com as notícias classificadas manualmente:"
   ]
  },
  {
   "cell_type": "code",
   "execution_count": 61,
   "metadata": {},
   "outputs": [],
   "source": [
    "path = os.chdir(r\"..\\data\")"
   ]
  },
  {
   "cell_type": "code",
   "execution_count": 62,
   "metadata": {},
   "outputs": [],
   "source": [
    "filename = (f'dados.xlsx')"
   ]
  },
  {
   "cell_type": "code",
   "execution_count": 63,
   "metadata": {},
   "outputs": [],
   "source": [
    "train = pd.read_excel(filename, sheet_name = 'Treinamento')"
   ]
  },
  {
   "cell_type": "code",
   "execution_count": 64,
   "metadata": {},
   "outputs": [],
   "source": [
    "test = pd.read_excel(filename, sheet_name = 'Teste')"
   ]
  },
  {
   "cell_type": "markdown",
   "metadata": {},
   "source": [
    "___\n",
    "## Classificador automático\n"
   ]
  },
  {
   "cell_type": "markdown",
   "metadata": {},
   "source": [
    "### Descrição do assuntos e o que foi considerado como positivo ou negativo nas notícias (Target).\n"
   ]
  },
  {
   "cell_type": "markdown",
   "metadata": {},
   "source": [
    "O assunto abordado nesse projeto foi *agronegócio* e duas targets foram utilizadas para classificar as notícias:\n",
    "- positivo:\n",
    "    notícias com foco em crescimento do agronegócio, expansão de plantações, liberação de importação e exportação, aumento de safras...\n",
    "    \n",
    "- negativo\n",
    "    notícias com números negativos, descrescimento de safras, de áreas verdes, desmatamento, bloqueios internacionais..."
   ]
  },
  {
   "cell_type": "markdown",
   "metadata": {},
   "source": [
    "### Targets:"
   ]
  },
  {
   "cell_type": "code",
   "execution_count": 65,
   "metadata": {
    "scrolled": true
   },
   "outputs": [
    {
     "data": {
      "text/plain": [
       "Titulo    129\n",
       "dtype: int64"
      ]
     },
     "execution_count": 65,
     "metadata": {},
     "output_type": "execute_result"
    }
   ],
   "source": [
    "dados_negativos = train.loc[ train['Target']==1, ['Titulo'] ]\n",
    "dados_negativos.count()"
   ]
  },
  {
   "cell_type": "code",
   "execution_count": 66,
   "metadata": {},
   "outputs": [
    {
     "data": {
      "text/plain": [
       "Titulo    174\n",
       "dtype: int64"
      ]
     },
     "execution_count": 66,
     "metadata": {},
     "output_type": "execute_result"
    }
   ],
   "source": [
    "dados_positivos = train.loc[ train['Target']==2, ['Titulo'] ]\n",
    "dados_positivos.count()"
   ]
  },
  {
   "cell_type": "markdown",
   "metadata": {},
   "source": [
    "### Transformando as bases em string:"
   ]
  },
  {
   "cell_type": "code",
   "execution_count": 67,
   "metadata": {},
   "outputs": [],
   "source": [
    "titulo_negativos = dados_negativos['Titulo']\n",
    "str_negativos = ''\n",
    "\n",
    "for frase_neg in titulo_negativos:\n",
    "    str_negativos += cleanup(frase_neg) + ' '\n",
    "    \n",
    "palavras_negativos = stopwords(str_negativos.split())"
   ]
  },
  {
   "cell_type": "code",
   "execution_count": 68,
   "metadata": {},
   "outputs": [],
   "source": [
    "titulo_positivos = dados_positivos['Titulo']\n",
    "str_positivos = ''\n",
    "\n",
    "for frase_p in titulo_positivos:\n",
    "    str_positivos += cleanup(frase_p) + ' '\n",
    "    \n",
    "palavras_positivos = stopwords(str_positivos.split())"
   ]
  },
  {
   "cell_type": "code",
   "execution_count": 69,
   "metadata": {
    "scrolled": true
   },
   "outputs": [],
   "source": [
    "serie_negativos = pd.Series(palavras_negativos)\n",
    "\n",
    "#tabelas\n",
    "tabela_n = serie_negativos.value_counts(normalize=True)\n",
    "tabela_n_absoluta = serie_negativos.value_counts()\n"
   ]
  },
  {
   "cell_type": "code",
   "execution_count": 70,
   "metadata": {},
   "outputs": [],
   "source": [
    "serie_positivos = pd.Series(palavras_positivos)\n",
    "\n",
    "#tabelas\n",
    "tabela_p = serie_negativos.value_counts(normalize=True)\n",
    "tabela_p_absoluta = serie_positivos.value_counts()\n"
   ]
  },
  {
   "cell_type": "code",
   "execution_count": 71,
   "metadata": {},
   "outputs": [],
   "source": [
    "str_total = str_negativos + str_positivos\n",
    "\n",
    "palavras_total = stopwords(str_total.split())\n",
    "\n",
    "serie_total = pd.Series(palavras_total)\n",
    "\n",
    "#tabelas\n",
    "tabela_t = serie_total.value_counts(normalize=True)\n",
    "tabela_t_absoluta = serie_total.value_counts()"
   ]
  },
  {
   "cell_type": "code",
   "execution_count": 72,
   "metadata": {},
   "outputs": [
    {
     "name": "stdout",
     "output_type": "stream",
     "text": [
      "1.0\n"
     ]
    }
   ],
   "source": [
    "#prob a priori\n",
    "\n",
    "prob_n = len(str_negativos)/len(str_total)\n",
    "\n",
    "prob_p = len(str_positivos)/len(str_total)\n",
    "\n",
    "print(prob_n + prob_p)"
   ]
  },
  {
   "cell_type": "markdown",
   "metadata": {},
   "source": [
    "___\n",
    "### Montando um Classificador Naive-Bayes\n",
    "\n",
    "Considerando apenas as mensagens da planilha Treinamento, ensine  seu classificador."
   ]
  },
  {
   "cell_type": "code",
   "execution_count": 73,
   "metadata": {},
   "outputs": [],
   "source": [
    "def laplace(palavra, tabela_abs, tabela_abs_total):\n",
    "    if palavra not in tabela_abs:\n",
    "        prob_palavra_dado_categoria = 1 / ( len(tabela_abs_total) + sum(tabela_abs) )\n",
    "    else: \n",
    "        prob_palavra_dado_categoria = ( tabela_abs[palavra] + 1 ) / ( len(tabela_abs_total) + sum(tabela_abs) )\n",
    "    \n",
    "    return prob_palavra_dado_categoria"
   ]
  },
  {
   "cell_type": "code",
   "execution_count": 74,
   "metadata": {},
   "outputs": [],
   "source": [
    "def classificador(test):    \n",
    "    lista_classificacao = []\n",
    "    for titulo in test.Titulo:\n",
    "\n",
    "        titulo = cleanup(titulo)\n",
    "        palavras = stopwords(titulo.split())\n",
    "\n",
    "        prob_p_dado_noticia = 1\n",
    "        prob_n_dado_noticia = 1\n",
    "\n",
    "        #repetição para aplicar laplace em todos os titulos\n",
    "        for palavra in palavras:\n",
    "            prob_p_dado_noticia = prob_p_dado_noticia * laplace(palavra, tabela_p_absoluta, tabela_t)\n",
    "\n",
    "            prob_n_dado_noticia = prob_n_dado_noticia * laplace(palavra, tabela_n_absoluta, tabela_t)\n",
    "\n",
    "        #multiplicação das probabilidades a priori\n",
    "        prob_p_dado_noticia *= prob_p\n",
    "\n",
    "        prob_n_dado_noticia *= prob_n\n",
    "\n",
    "\n",
    "        #condições para classificação das probabilidades calculadas anteriormente\n",
    "        if prob_n_dado_noticia > prob_p_dado_noticia:\n",
    "            lista_classificacao.append('Negativo')\n",
    "        elif prob_p_dado_noticia > prob_n_dado_noticia:\n",
    "            lista_classificacao.append('Positivo')\n",
    "\n",
    "    #Adicionando a lista de classificação no dataframe, com uma coluna nova chamada 'Classificado_titulo'\n",
    "    classificacao = pd.Series(lista_classificacao)\n",
    "    test['Classificado_titulo'] = classificacao\n",
    "    return test"
   ]
  },
  {
   "cell_type": "markdown",
   "metadata": {},
   "source": [
    "___\n",
    "### Verificando a performance do Classificador\n",
    "\n",
    "Agora você deve testar o seu classificador com a base de Testes."
   ]
  },
  {
   "cell_type": "markdown",
   "metadata": {},
   "source": [
    "### Tabela de frequência absoluta:"
   ]
  },
  {
   "cell_type": "code",
   "execution_count": 75,
   "metadata": {},
   "outputs": [
    {
     "data": {
      "text/html": [
       "<div>\n",
       "<style scoped>\n",
       "    .dataframe tbody tr th:only-of-type {\n",
       "        vertical-align: middle;\n",
       "    }\n",
       "\n",
       "    .dataframe tbody tr th {\n",
       "        vertical-align: top;\n",
       "    }\n",
       "\n",
       "    .dataframe thead th {\n",
       "        text-align: right;\n",
       "    }\n",
       "</style>\n",
       "<table border=\"1\" class=\"dataframe\">\n",
       "  <thead>\n",
       "    <tr style=\"text-align: right;\">\n",
       "      <th>Classificado_titulo</th>\n",
       "      <th>Negativo</th>\n",
       "      <th>Positivo</th>\n",
       "    </tr>\n",
       "    <tr>\n",
       "      <th>Target</th>\n",
       "      <th></th>\n",
       "      <th></th>\n",
       "    </tr>\n",
       "  </thead>\n",
       "  <tbody>\n",
       "    <tr>\n",
       "      <th>1</th>\n",
       "      <td>54</td>\n",
       "      <td>20</td>\n",
       "    </tr>\n",
       "    <tr>\n",
       "      <th>2</th>\n",
       "      <td>39</td>\n",
       "      <td>92</td>\n",
       "    </tr>\n",
       "  </tbody>\n",
       "</table>\n",
       "</div>"
      ],
      "text/plain": [
       "Classificado_titulo  Negativo  Positivo\n",
       "Target                                 \n",
       "1                          54        20\n",
       "2                          39        92"
      ]
     },
     "execution_count": 75,
     "metadata": {},
     "output_type": "execute_result"
    }
   ],
   "source": [
    "teste = classificador(test)\n",
    "\n",
    "tabela_abs = pd.crosstab(test['Target'], test['Classificado_titulo'])\n",
    "tabela_abs"
   ]
  },
  {
   "cell_type": "markdown",
   "metadata": {},
   "source": [
    "### Tabela de frequência relativa"
   ]
  },
  {
   "cell_type": "code",
   "execution_count": 76,
   "metadata": {
    "scrolled": true
   },
   "outputs": [
    {
     "data": {
      "text/html": [
       "<div>\n",
       "<style scoped>\n",
       "    .dataframe tbody tr th:only-of-type {\n",
       "        vertical-align: middle;\n",
       "    }\n",
       "\n",
       "    .dataframe tbody tr th {\n",
       "        vertical-align: top;\n",
       "    }\n",
       "\n",
       "    .dataframe thead th {\n",
       "        text-align: right;\n",
       "    }\n",
       "</style>\n",
       "<table border=\"1\" class=\"dataframe\">\n",
       "  <thead>\n",
       "    <tr style=\"text-align: right;\">\n",
       "      <th>Classificado_titulo</th>\n",
       "      <th>Negativo</th>\n",
       "      <th>Positivo</th>\n",
       "    </tr>\n",
       "    <tr>\n",
       "      <th>Target</th>\n",
       "      <th></th>\n",
       "      <th></th>\n",
       "    </tr>\n",
       "  </thead>\n",
       "  <tbody>\n",
       "    <tr>\n",
       "      <th>1</th>\n",
       "      <td>0.72973</td>\n",
       "      <td>0.27027</td>\n",
       "    </tr>\n",
       "    <tr>\n",
       "      <th>2</th>\n",
       "      <td>0.29771</td>\n",
       "      <td>0.70229</td>\n",
       "    </tr>\n",
       "  </tbody>\n",
       "</table>\n",
       "</div>"
      ],
      "text/plain": [
       "Classificado_titulo  Negativo  Positivo\n",
       "Target                                 \n",
       "1                     0.72973   0.27027\n",
       "2                     0.29771   0.70229"
      ]
     },
     "execution_count": 76,
     "metadata": {},
     "output_type": "execute_result"
    }
   ],
   "source": [
    "tabela_rel = pd.crosstab(test['Target'], test['Classificado_titulo'], normalize = 'index')\n",
    "tabela_rel"
   ]
  },
  {
   "cell_type": "code",
   "execution_count": 77,
   "metadata": {},
   "outputs": [],
   "source": [
    "#negativos\n",
    "verdadeiros_negativos = tabela_rel.iloc[0, 0] * 100\n",
    "falsos_negativos = tabela_rel.iloc[0, 1] * 100\n",
    "\n",
    "#positivos\n",
    "verdadeiros_positivos = tabela_rel.iloc[1, 1] * 100\n",
    "falsos_positivos = tabela_rel.iloc[1, 0] * 100"
   ]
  },
  {
   "cell_type": "code",
   "execution_count": 78,
   "metadata": {},
   "outputs": [],
   "source": [
    "# acurácia:\n",
    "vdd_neg_abs = tabela_abs.iloc[0, 0]\n",
    "vdd_pos_abs = tabela_abs.iloc[1, 1]\n",
    "\n",
    "acc = ((vdd_neg_abs + vdd_pos_abs)* 100 ) / len(test)"
   ]
  },
  {
   "cell_type": "code",
   "execution_count": 79,
   "metadata": {},
   "outputs": [
    {
     "name": "stdout",
     "output_type": "stream",
     "text": [
      "A porcentagem de verdadeiros negativos é:72.973\n",
      "A porcentagem de verdadeiros positivos é:  70.229\n",
      "Acurácia do modelo:  71.220\n"
     ]
    }
   ],
   "source": [
    "\n",
    "print(f'A porcentagem de verdadeiros negativos é:{verdadeiros_negativos:.3f}')\n",
    "print(f'A porcentagem de verdadeiros positivos é: {verdadeiros_positivos: .3f}')\n",
    "print(f'Acurácia do modelo: {acc: .3f}')"
   ]
  },
  {
   "cell_type": "markdown",
   "metadata": {},
   "source": [
    "___\n",
    "### Concluindo"
   ]
  },
  {
   "cell_type": "markdown",
   "metadata": {},
   "source": [
    "Após descobrir a quantidade de acertos nos dois targets defininos (positivo e negativo), foi possível calcular a eficácia do classificador que foi de 71,2%. Essa porcentagem pode ser considerada muito satisfátoria nesse cenário, porque ela é maior que um chute aleatório entre as duas categorias do Target, que seria de 50%. Porém, mesmo essa acurácia satisfátoria, o classificador ainda possui algumas ingenuidades em relação a palavras de duplo sentido, sarcasmo e ironia, porque trata as palavras como independentes.\n"
   ]
  },
  {
   "cell_type": "markdown",
   "metadata": {},
   "source": [
    "#### Possíveis melhorias:"
   ]
  },
  {
   "cell_type": "markdown",
   "metadata": {},
   "source": [
    "- Não tratar as palavras como independentes, dando valor à ordem em que está situada na frase.\n",
    "- Aumento dos Targets em sugcategorias como: *Marketing*, *Soja*, *Tratores*, *Exportação*, ..."
   ]
  },
  {
   "cell_type": "markdown",
   "metadata": {},
   "source": [
    "#### Possíveis aplicações:"
   ]
  },
  {
   "cell_type": "markdown",
   "metadata": {},
   "source": [
    "Levando em consideração a ingenuidade do classificador quanto a ordem das palavras, ele seria bem utilizado para propósitos de *palavras-chave*, como em plataformas de streaming e sites de busca, com o intuíto de sugerir anúncios ou videos e sites parecidos com palavras procuradas anteriormente pelo usuário."
   ]
  },
  {
   "cell_type": "markdown",
   "metadata": {},
   "source": [
    "___\n",
    "### Qualidade do Classificador a partir de novas separações das notícias entre Treinamento e Teste"
   ]
  },
  {
   "cell_type": "code",
   "execution_count": 84,
   "metadata": {},
   "outputs": [],
   "source": [
    "test2 = pd.read_excel(filename, sheet_name = 'Teste')\n",
    "\n",
    "train2 = pd.read_excel(filename, sheet_name = 'Treinamento')\n",
    "\n",
    "tudo = pd.concat([test2, train2])\n",
    "dataframe_tudo = pd.DataFrame(tudo)"
   ]
  },
  {
   "cell_type": "code",
   "execution_count": 81,
   "metadata": {},
   "outputs": [],
   "source": [
    "lista_eficacia = []\n",
    "\n",
    "for i in range(200):\n",
    "    train2,test2 = train_test_split(tudo, test_size=300)\n",
    "    \n",
    "    train_negativo = train2.loc[train2['Target']==1,:]\n",
    "    train_positivo = train2.loc[train2['Target']==2,:]\n",
    "    \n",
    "    \n",
    "    titulos_positivos = list(train_positivo['Titulo'])\n",
    "    titulos_negativos = list(train_negativo['Titulo'])\n",
    "    \n",
    "    palavrastitulos_negativos = stopwords(' '.join(titulos_negativos).split())\n",
    "    palavrastitulos_positivos = stopwords(' '.join(titulos_positivos).split())\n",
    "    \n",
    "    titulos_tudo = palavrastitulos_negativos + palavrastitulos_positivos\n",
    "    \n",
    "    serienegativa = pd.Series(palavrastitulos_negativos)\n",
    "    seriepositiva = pd.Series(palavrastitulos_positivos)\n",
    "    \n",
    "    serie_tudo = pd.Series(titulos_tudo)\n",
    "    \n",
    "    tabela_n_absoluta2 = serienegativa.value_counts()\n",
    "    tabela_p_absoluta2 = seriepositiva.value_counts()\n",
    "    \n",
    "    tabela_t2 = serie_total.value_counts()\n",
    "    \n",
    "    #prob priori\n",
    "    prob_p2 = len(palavrastitulos_positivos) / len(titulos_tudo)\n",
    "    prob_neg2 = len(palavrastitulos_negativos) / len(titulos_tudo)\n",
    "    \n",
    "\n",
    "\n",
    "    def classificador2(test):    \n",
    "        lista_classificacao2 = []\n",
    "        for titulo2 in test.Titulo:\n",
    "\n",
    "            titulo2 = cleanup(titulo2)\n",
    "            palavras2 = stopwords(titulo2.split())\n",
    "\n",
    "            prob_p_dado_noticia2 = 1\n",
    "            prob_n_dado_noticia2 = 1\n",
    "\n",
    "            #repetição para aplicar laplace em todos os titulos\n",
    "            for palavra2 in palavras2:\n",
    "                prob_p_dado_noticia2 = prob_p_dado_noticia2 * laplace(palavra2, tabela_p_absoluta2, tabela_t2)\n",
    "\n",
    "                prob_n_dado_noticia2 = prob_n_dado_noticia2 * laplace(palavra2, tabela_n_absoluta2, tabela_t2)\n",
    "\n",
    "            #multiplicação das probabilidades a priori\n",
    "            prob_p_dado_noticia2 *= prob_p\n",
    "\n",
    "            prob_n_dado_noticia2 *= prob_n\n",
    "\n",
    "\n",
    "            #condições para classificação das probabilidades calculadas anteriormente\n",
    "            if prob_n_dado_noticia2 > prob_p_dado_noticia2:\n",
    "                lista_classificacao2.append('Negativo')\n",
    "            elif prob_p_dado_noticia2 > prob_n_dado_noticia2:\n",
    "                lista_classificacao2.append('Positivo')\n",
    "\n",
    "        #Adicionando a lista de classificação no dataframe, com uma coluna nova chamada 'Classificado_titulo'\n",
    "        classificacao2 = pd.Series(lista_classificacao2)\n",
    "        test['Classificado_titulo'] = classificacao2\n",
    "        return test2\n",
    "    \n",
    "    resultado2 = classificador2(test2)\n",
    "    \n",
    "    tabela2 = pd.crosstab(resultado2['Target'], resultado2['Classificado_titulo'])\n",
    "    \n",
    "    efic_titulo2 = (tabela2.iloc[0,0] + tabela2.iloc[1,1])*100 / len(resultado2)\n",
    "    \n",
    "    lista_eficacia.append(efic_titulo2)\n"
   ]
  },
  {
   "cell_type": "code",
   "execution_count": 85,
   "metadata": {
    "scrolled": true
   },
   "outputs": [
    {
     "name": "stdout",
     "output_type": "stream",
     "text": [
      "A menor acurácia foi de 38.667%\n",
      "A maior acurácia foi de  58.333% \n",
      "A média de acurácia foi de  49.338%\n"
     ]
    }
   ],
   "source": [
    "lista_eficacia2 = pd.Series(lista_eficacia)\n",
    "print(f'A menor acurácia foi de {lista_eficacia2.min() :.3f}%')\n",
    "print(f'A maior acurácia foi de {lista_eficacia2.max() : .3f}% ')\n",
    "print(f'A média de acurácia foi de {lista_eficacia2.mean(): .3f}%')"
   ]
  },
  {
   "cell_type": "markdown",
   "metadata": {},
   "source": [
    "### Histograma:"
   ]
  },
  {
   "cell_type": "code",
   "execution_count": 86,
   "metadata": {},
   "outputs": [
    {
     "data": {
      "image/png": "[encoded data removed]",
      "text/plain": [
       "<Figure size 432x288 with 1 Axes>"
      ]
     },
     "metadata": {
      "needs_background": "light"
     },
     "output_type": "display_data"
    }
   ],
   "source": [
    "faixas = np.arange(40, 60, 1)\n",
    "plt.hist(lista_eficacia, bins=faixas, edgecolor='black', color = 'blue', density = True)\n",
    "plt.title('Eficácia do modelo')\n",
    "plt.ylabel('Faixa')\n",
    "plt.xlabel('Porcentagem de acerto(%)')\n",
    "plt.show()"
   ]
  },
  {
   "cell_type": "markdown",
   "metadata": {},
   "source": [
    "___\n",
    "## Aperfeiçoamento:\n",
    "\n",
    "Trabalhos que conseguirem pelo menos conceito B vão evoluir em conceito dependendo da quantidade de itens avançados:\n",
    "\n",
    "* IMPLEMENTOU outras limpezas e transformações que não afetem a qualidade da informação contida nas notícias. Ex: stemming, lemmatization, stopwords\n",
    "* CONSIDEROU mais de duas caterogias na variável Target e INCREMENTOU a quantidade de notícias, mantendo pelo menos 250 notícias por caterogia (OBRIGATÓRIO PARA TRIOS, sem contar como item avançado)\n",
    "* Para Target com duas categorias: CRIOU pelo menos quatro categorias intermediárias de relevância baseadas na probabilidade: ex.: muito relevante, relevante, neutro, irrelevante, muito irrelevante\n",
    "* EXPLICOU porquê não pode usar o próprio classificador para gerar mais amostras de treinamento\n",
    "* PROPÔS diferentes cenários para Naïve Bayes fora do contexto do projeto (pelo menos dois cenários, exceto aqueles já apresentados em sala pelos professores: por exemplo, filtro de spam)\n",
    "* SUGERIU e EXPLICOU melhorias reais com indicações concretas de como implementar (indicar como fazer e indicar material de pesquisa)\n",
    "* FEZ o item Qualidade do Classificador a partir de novas separações das Notícias entre Treinamento e Teste descrito no enunciado do projeto (OBRIGATÓRIO para conceitos A ou A+)"
   ]
  },
  {
   "cell_type": "markdown",
   "metadata": {},
   "source": [
    "___\n",
    "## Referências"
   ]
  },
  {
   "cell_type": "markdown",
   "metadata": {},
   "source": [
    "[Naive Bayes and Text Classification](https://arxiv.org/pdf/1410.5329.pdf)  **Mais completo**\n",
    "\n",
    "[A practical explanation of a Naive Bayes Classifier](https://monkeylearn.com/blog/practical-explanation-naive-bayes-classifier/) **Mais simples**"
   ]
  }
 ],
 "metadata": {
  "kernelspec": {
   "display_name": "Python 3",
   "language": "python",
   "name": "python3"
  },
  "language_info": {
   "codemirror_mode": {
    "name": "ipython",
    "version": 3
   },
   "file_extension": ".py",
   "mimetype": "text/x-python",
   "name": "python",
   "nbconvert_exporter": "python",
   "pygments_lexer": "ipython3",
   "version": "3.8.8"
  }
 },
 "nbformat": 4,
 "nbformat_minor": 4
}
